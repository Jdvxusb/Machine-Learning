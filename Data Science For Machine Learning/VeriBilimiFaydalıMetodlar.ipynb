{
 "cells": [
  {
   "cell_type": "code",
   "execution_count": 37,
   "id": "282013e3",
   "metadata": {},
   "outputs": [],
   "source": [
    "from random import*"
   ]
  },
  {
   "cell_type": "code",
   "execution_count": 38,
   "id": "5360d57e",
   "metadata": {},
   "outputs": [],
   "source": [
    "a=tuple(range(10,20,5))"
   ]
  },
  {
   "cell_type": "code",
   "execution_count": 39,
   "id": "ab1fdfae",
   "metadata": {},
   "outputs": [
    {
     "data": {
      "text/plain": [
       "tuple"
      ]
     },
     "execution_count": 39,
     "metadata": {},
     "output_type": "execute_result"
    }
   ],
   "source": [
    "type(a)"
   ]
  },
  {
   "cell_type": "code",
   "execution_count": 40,
   "id": "8cb3db2b",
   "metadata": {},
   "outputs": [
    {
     "name": "stdout",
     "output_type": "stream",
     "text": [
      "(0, 5)\n",
      "(1, 6)\n",
      "(2, 7)\n",
      "(3, 8)\n",
      "(4, 9)\n"
     ]
    }
   ],
   "source": [
    "for eleman in enumerate(list(range(5,10))):\n",
    "    print(eleman)"
   ]
  },
  {
   "cell_type": "code",
   "execution_count": 46,
   "id": "ab9c17c3",
   "metadata": {},
   "outputs": [
    {
     "data": {
      "text/plain": [
       "55"
      ]
     },
     "execution_count": 46,
     "metadata": {},
     "output_type": "execute_result"
    }
   ],
   "source": [
    "randint(0,100)"
   ]
  },
  {
   "cell_type": "code",
   "execution_count": 47,
   "id": "30aa5050",
   "metadata": {},
   "outputs": [],
   "source": [
    "liste=list(range(1,10))"
   ]
  },
  {
   "cell_type": "code",
   "execution_count": 48,
   "id": "20f84e52",
   "metadata": {},
   "outputs": [],
   "source": [
    "shuffle(liste)"
   ]
  },
  {
   "cell_type": "code",
   "execution_count": 49,
   "id": "66c076dd",
   "metadata": {},
   "outputs": [
    {
     "data": {
      "text/plain": [
       "[2, 6, 9, 1, 4, 7, 3, 8, 5]"
      ]
     },
     "execution_count": 49,
     "metadata": {},
     "output_type": "execute_result"
    }
   ],
   "source": [
    "liste"
   ]
  },
  {
   "cell_type": "code",
   "execution_count": null,
   "id": "7987f3ac",
   "metadata": {},
   "outputs": [],
   "source": []
  }
 ],
 "metadata": {
  "kernelspec": {
   "display_name": "Python 3 (ipykernel)",
   "language": "python",
   "name": "python3"
  },
  "language_info": {
   "codemirror_mode": {
    "name": "ipython",
    "version": 3
   },
   "file_extension": ".py",
   "mimetype": "text/x-python",
   "name": "python",
   "nbconvert_exporter": "python",
   "pygments_lexer": "ipython3",
   "version": "3.9.12"
  }
 },
 "nbformat": 4,
 "nbformat_minor": 5
}
