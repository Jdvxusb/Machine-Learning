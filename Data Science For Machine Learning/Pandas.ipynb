{
 "cells": [
  {
   "cell_type": "code",
   "execution_count": 2,
   "id": "1cb9c452",
   "metadata": {},
   "outputs": [],
   "source": [
    "import numpy as np\n",
    "import pandas as pd"
   ]
  },
  {
   "cell_type": "markdown",
   "id": "be6384bd",
   "metadata": {},
   "source": [
    "## Series"
   ]
  },
  {
   "cell_type": "code",
   "execution_count": 3,
   "id": "2fdeaab2",
   "metadata": {},
   "outputs": [],
   "source": [
    "benimSozlugum = {\"Omer\": 40, \"Mustafa\":20,\"Ahmet\":30}"
   ]
  },
  {
   "cell_type": "code",
   "execution_count": 5,
   "id": "63a48cbd",
   "metadata": {},
   "outputs": [
    {
     "data": {
      "text/plain": [
       "Omer       40\n",
       "Mustafa    20\n",
       "Ahmet      30\n",
       "dtype: int64"
      ]
     },
     "execution_count": 5,
     "metadata": {},
     "output_type": "execute_result"
    }
   ],
   "source": [
    "pd.Series(benimSozlugum)"
   ]
  },
  {
   "cell_type": "code",
   "execution_count": 6,
   "id": "a67a8a4a",
   "metadata": {},
   "outputs": [],
   "source": [
    "benimListem = [40,20,30]\n",
    "benimIsimlerim=[\"omer\",\"mustafa\",\"ahmet\"]"
   ]
  },
  {
   "cell_type": "code",
   "execution_count": 8,
   "id": "e69881b9",
   "metadata": {},
   "outputs": [
    {
     "data": {
      "text/plain": [
       "omer       40\n",
       "mustafa    20\n",
       "ahmet      30\n",
       "dtype: int64"
      ]
     },
     "execution_count": 8,
     "metadata": {},
     "output_type": "execute_result"
    }
   ],
   "source": [
    "pd.Series(benimListem,benimIsimlerim)"
   ]
  },
  {
   "cell_type": "code",
   "execution_count": 10,
   "id": "02f4c10b",
   "metadata": {},
   "outputs": [],
   "source": [
    "numpyDizisi = np.array([40,20,30])"
   ]
  },
  {
   "cell_type": "code",
   "execution_count": 11,
   "id": "8017855f",
   "metadata": {},
   "outputs": [
    {
     "data": {
      "text/plain": [
       "omer       40\n",
       "mustafa    20\n",
       "ahmet      30\n",
       "dtype: int32"
      ]
     },
     "execution_count": 11,
     "metadata": {},
     "output_type": "execute_result"
    }
   ],
   "source": [
    "pd.Series(numpyDizisi,benimIsimlerim)"
   ]
  },
  {
   "cell_type": "code",
   "execution_count": 21,
   "id": "2d22a513",
   "metadata": {},
   "outputs": [],
   "source": [
    "yarismaSonucu1=pd.Series([10,20,30],[\"Omer\",\"Mustafa\",\"Ahmet\"]   )\n",
    "yarismaSonucu2=pd.Series([5,8,20],[\"Omer\",\"Mustafa\",\"Ahmet\"])"
   ]
  },
  {
   "cell_type": "code",
   "execution_count": 23,
   "id": "cfcb0b14",
   "metadata": {},
   "outputs": [
    {
     "data": {
      "text/plain": [
       "Omer       15\n",
       "Mustafa    28\n",
       "Ahmet      50\n",
       "dtype: int64"
      ]
     },
     "execution_count": 23,
     "metadata": {},
     "output_type": "execute_result"
    }
   ],
   "source": [
    "yarismaSonucu1+yarismaSonucu2"
   ]
  },
  {
   "cell_type": "code",
   "execution_count": null,
   "id": "7696463b",
   "metadata": {},
   "outputs": [],
   "source": []
  }
 ],
 "metadata": {
  "kernelspec": {
   "display_name": "Python 3 (ipykernel)",
   "language": "python",
   "name": "python3"
  },
  "language_info": {
   "codemirror_mode": {
    "name": "ipython",
    "version": 3
   },
   "file_extension": ".py",
   "mimetype": "text/x-python",
   "name": "python",
   "nbconvert_exporter": "python",
   "pygments_lexer": "ipython3",
   "version": "3.9.12"
  }
 },
 "nbformat": 4,
 "nbformat_minor": 5
}
