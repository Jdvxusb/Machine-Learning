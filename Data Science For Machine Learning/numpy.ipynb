{
 "cells": [
  {
   "cell_type": "code",
   "execution_count": 2,
   "id": "00d11501",
   "metadata": {},
   "outputs": [],
   "source": [
    "import numpy as np"
   ]
  },
  {
   "cell_type": "markdown",
   "id": "ec7e03ba",
   "metadata": {},
   "source": [
    "## numpy arrays"
   ]
  },
  {
   "cell_type": "code",
   "execution_count": 3,
   "id": "77d1208f",
   "metadata": {},
   "outputs": [],
   "source": [
    "benimListem =[20,90,890]"
   ]
  },
  {
   "cell_type": "code",
   "execution_count": 4,
   "id": "e98e93b9",
   "metadata": {},
   "outputs": [
    {
     "data": {
      "text/plain": [
       "array([ 20,  90, 890])"
      ]
     },
     "execution_count": 4,
     "metadata": {},
     "output_type": "execute_result"
    }
   ],
   "source": [
    "np.array(benimListem)"
   ]
  },
  {
   "cell_type": "code",
   "execution_count": 8,
   "id": "8a6c2fce",
   "metadata": {},
   "outputs": [],
   "source": [
    "matrixLitesi= [[10,20],[40,60],[60,90]]"
   ]
  },
  {
   "cell_type": "code",
   "execution_count": 9,
   "id": "f4ae1356",
   "metadata": {},
   "outputs": [
    {
     "data": {
      "text/plain": [
       "array([[10, 20],\n",
       "       [40, 60],\n",
       "       [60, 90]])"
      ]
     },
     "execution_count": 9,
     "metadata": {},
     "output_type": "execute_result"
    }
   ],
   "source": [
    "np.array(matrixLitesi)"
   ]
  },
  {
   "cell_type": "markdown",
   "id": "b9c476ee",
   "metadata": {},
   "source": [
    "## arange"
   ]
  },
  {
   "cell_type": "code",
   "execution_count": 11,
   "id": "1f791de9",
   "metadata": {},
   "outputs": [
    {
     "data": {
      "text/plain": [
       "array([0, 1, 2, 3, 4, 5, 6, 7, 8, 9])"
      ]
     },
     "execution_count": 11,
     "metadata": {},
     "output_type": "execute_result"
    }
   ],
   "source": [
    "np.arange(0,10)"
   ]
  },
  {
   "cell_type": "code",
   "execution_count": 12,
   "id": "9266863f",
   "metadata": {},
   "outputs": [
    {
     "data": {
      "text/plain": [
       "array([0, 4, 8])"
      ]
     },
     "execution_count": 12,
     "metadata": {},
     "output_type": "execute_result"
    }
   ],
   "source": [
    "np.arange(0,10,4)"
   ]
  },
  {
   "cell_type": "markdown",
   "id": "e2e51b4a",
   "metadata": {},
   "source": [
    "## linspace"
   ]
  },
  {
   "cell_type": "code",
   "execution_count": 20,
   "id": "4c68f67c",
   "metadata": {},
   "outputs": [
    {
     "data": {
      "text/plain": [
       "array([ 0.,  4.,  8., 12., 16., 20.])"
      ]
     },
     "execution_count": 20,
     "metadata": {},
     "output_type": "execute_result"
    }
   ],
   "source": [
    "np.linspace(0,20,6)"
   ]
  },
  {
   "cell_type": "code",
   "execution_count": 22,
   "id": "c9011534",
   "metadata": {},
   "outputs": [
    {
     "data": {
      "text/plain": [
       "array([[1., 0., 0., 0., 0.],\n",
       "       [0., 1., 0., 0., 0.],\n",
       "       [0., 0., 1., 0., 0.],\n",
       "       [0., 0., 0., 1., 0.],\n",
       "       [0., 0., 0., 0., 1.]])"
      ]
     },
     "execution_count": 22,
     "metadata": {},
     "output_type": "execute_result"
    }
   ],
   "source": [
    "np.eye(5)"
   ]
  },
  {
   "cell_type": "code",
   "execution_count": 23,
   "id": "ac76a0b8",
   "metadata": {},
   "outputs": [
    {
     "data": {
      "text/plain": [
       "array([ 0.4395506 , -0.47570941, -0.81410769, -0.14894338,  1.1003174 ])"
      ]
     },
     "execution_count": 23,
     "metadata": {},
     "output_type": "execute_result"
    }
   ],
   "source": [
    "np.random.randn(5)"
   ]
  },
  {
   "cell_type": "code",
   "execution_count": 26,
   "id": "275c835f",
   "metadata": {},
   "outputs": [],
   "source": [
    "benimDizim=np.arange(0,10)"
   ]
  },
  {
   "cell_type": "code",
   "execution_count": 27,
   "id": "e774acf0",
   "metadata": {},
   "outputs": [],
   "source": [
    "benimDizim[3:6]=-2"
   ]
  },
  {
   "cell_type": "code",
   "execution_count": 28,
   "id": "b06d9a62",
   "metadata": {},
   "outputs": [
    {
     "data": {
      "text/plain": [
       "array([ 0,  1,  2, -2, -2, -2,  6,  7,  8,  9])"
      ]
     },
     "execution_count": 28,
     "metadata": {},
     "output_type": "execute_result"
    }
   ],
   "source": [
    "benimDizim"
   ]
  },
  {
   "cell_type": "code",
   "execution_count": 32,
   "id": "0c30446b",
   "metadata": {},
   "outputs": [],
   "source": [
    "baskaDizi=benimDizim[6:9]"
   ]
  },
  {
   "cell_type": "code",
   "execution_count": 34,
   "id": "f43d619d",
   "metadata": {},
   "outputs": [],
   "source": [
    "baskaDizi[:]=100"
   ]
  },
  {
   "cell_type": "code",
   "execution_count": 35,
   "id": "8f13684f",
   "metadata": {},
   "outputs": [
    {
     "data": {
      "text/plain": [
       "array([100, 100, 100])"
      ]
     },
     "execution_count": 35,
     "metadata": {},
     "output_type": "execute_result"
    }
   ],
   "source": [
    "baskaDizi"
   ]
  },
  {
   "cell_type": "code",
   "execution_count": 36,
   "id": "4282df27",
   "metadata": {},
   "outputs": [
    {
     "data": {
      "text/plain": [
       "array([  1,   1,   1,   1,   1,   1, 100, 100, 100,   1])"
      ]
     },
     "execution_count": 36,
     "metadata": {},
     "output_type": "execute_result"
    }
   ],
   "source": [
    "benimDizim"
   ]
  },
  {
   "cell_type": "markdown",
   "id": "3325e78b",
   "metadata": {},
   "source": [
    "## matrix"
   ]
  },
  {
   "cell_type": "code",
   "execution_count": 37,
   "id": "d730bfba",
   "metadata": {},
   "outputs": [],
   "source": [
    "benimListem = [[10,20,30],[1,5,6],[1,9,30]]"
   ]
  },
  {
   "cell_type": "code",
   "execution_count": 38,
   "id": "b57243f9",
   "metadata": {},
   "outputs": [],
   "source": [
    "benimMatrixListem = np.array(benimListem)"
   ]
  },
  {
   "cell_type": "code",
   "execution_count": 42,
   "id": "8cf39a92",
   "metadata": {},
   "outputs": [
    {
     "data": {
      "text/plain": [
       "array([[ 1,  9, 30],\n",
       "       [10, 20, 30],\n",
       "       [ 1,  5,  6]])"
      ]
     },
     "execution_count": 42,
     "metadata": {},
     "output_type": "execute_result"
    }
   ],
   "source": [
    "benimMatrixListem[[2,0,1]]"
   ]
  },
  {
   "cell_type": "markdown",
   "id": "6489eee3",
   "metadata": {},
   "source": [
    "## operations"
   ]
  },
  {
   "cell_type": "code",
   "execution_count": 50,
   "id": "e315feed",
   "metadata": {},
   "outputs": [],
   "source": [
    "yeniBirDizi = np.random.randint(5,40,20)"
   ]
  },
  {
   "cell_type": "code",
   "execution_count": 51,
   "id": "73e42131",
   "metadata": {},
   "outputs": [
    {
     "data": {
      "text/plain": [
       "array([34, 39,  6, 32, 36,  8, 28, 21, 31, 18,  9, 26, 20, 12, 13,  6, 10,\n",
       "       15, 35, 38])"
      ]
     },
     "execution_count": 51,
     "metadata": {},
     "output_type": "execute_result"
    }
   ],
   "source": [
    "yeniBirDizi"
   ]
  },
  {
   "cell_type": "code",
   "execution_count": 52,
   "id": "75294e00",
   "metadata": {},
   "outputs": [
    {
     "data": {
      "text/plain": [
       "array([ True,  True, False,  True,  True, False,  True, False,  True,\n",
       "       False, False,  True, False, False, False, False, False, False,\n",
       "        True,  True])"
      ]
     },
     "execution_count": 52,
     "metadata": {},
     "output_type": "execute_result"
    }
   ],
   "source": [
    "yeniBirDizi >24"
   ]
  },
  {
   "cell_type": "code",
   "execution_count": 53,
   "id": "ff50bfa5",
   "metadata": {},
   "outputs": [],
   "source": [
    "sonucDizisi=yeniBirDizi>24"
   ]
  },
  {
   "cell_type": "code",
   "execution_count": 54,
   "id": "4ff0701c",
   "metadata": {},
   "outputs": [
    {
     "data": {
      "text/plain": [
       "array([ True,  True, False,  True,  True, False,  True, False,  True,\n",
       "       False, False,  True, False, False, False, False, False, False,\n",
       "        True,  True])"
      ]
     },
     "execution_count": 54,
     "metadata": {},
     "output_type": "execute_result"
    }
   ],
   "source": [
    "sonucDizisi"
   ]
  },
  {
   "cell_type": "code",
   "execution_count": 56,
   "id": "390ea163",
   "metadata": {},
   "outputs": [
    {
     "data": {
      "text/plain": [
       "array([34, 39, 32, 36, 28, 31, 26, 35, 38])"
      ]
     },
     "execution_count": 56,
     "metadata": {},
     "output_type": "execute_result"
    }
   ],
   "source": [
    "yeniBirDizi[sonucDizisi]"
   ]
  },
  {
   "cell_type": "code",
   "execution_count": null,
   "id": "4cd9578a",
   "metadata": {},
   "outputs": [],
   "source": []
  }
 ],
 "metadata": {
  "kernelspec": {
   "display_name": "Python 3 (ipykernel)",
   "language": "python",
   "name": "python3"
  },
  "language_info": {
   "codemirror_mode": {
    "name": "ipython",
    "version": 3
   },
   "file_extension": ".py",
   "mimetype": "text/x-python",
   "name": "python",
   "nbconvert_exporter": "python",
   "pygments_lexer": "ipython3",
   "version": "3.9.12"
  }
 },
 "nbformat": 4,
 "nbformat_minor": 5
}
