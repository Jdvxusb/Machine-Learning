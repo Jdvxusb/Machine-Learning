{
 "cells": [
  {
   "cell_type": "markdown",
   "id": "6dbfa24e",
   "metadata": {},
   "source": [
    "## key-value pairing"
   ]
  },
  {
   "cell_type": "code",
   "execution_count": 2,
   "id": "dd018bd0",
   "metadata": {},
   "outputs": [],
   "source": [
    "benimyemeklerim = {\"elma\",\"karpuz\",\"muz\"}"
   ]
  },
  {
   "cell_type": "code",
   "execution_count": 3,
   "id": "35681829",
   "metadata": {},
   "outputs": [],
   "source": [
    "benimKalorilerim = {100,200,300}"
   ]
  },
  {
   "cell_type": "code",
   "execution_count": 4,
   "id": "700d558f",
   "metadata": {},
   "outputs": [],
   "source": [
    "benimSozluk = {\"anahtarkelime\" : \"deger\"}"
   ]
  },
  {
   "cell_type": "code",
   "execution_count": 6,
   "id": "37447719",
   "metadata": {},
   "outputs": [
    {
     "data": {
      "text/plain": [
       "dict"
      ]
     },
     "execution_count": 6,
     "metadata": {},
     "output_type": "execute_result"
    }
   ],
   "source": [
    "type(benimSozluk)"
   ]
  },
  {
   "cell_type": "code",
   "execution_count": 7,
   "id": "5d1ac64c",
   "metadata": {},
   "outputs": [
    {
     "data": {
      "text/plain": [
       "'deger'"
      ]
     },
     "execution_count": 7,
     "metadata": {},
     "output_type": "execute_result"
    }
   ],
   "source": [
    "benimSozluk[\"anahtarkelime\"]"
   ]
  },
  {
   "cell_type": "code",
   "execution_count": 8,
   "id": "0e7e4e5c",
   "metadata": {},
   "outputs": [],
   "source": [
    "benimYemekKalorisozlugum = {\"elma\" : \"200\" , \"karpzu\" : 200 , \"muz\" : 300}"
   ]
  },
  {
   "cell_type": "code",
   "execution_count": 9,
   "id": "9e92825a",
   "metadata": {},
   "outputs": [
    {
     "data": {
      "text/plain": [
       "300"
      ]
     },
     "execution_count": 9,
     "metadata": {},
     "output_type": "execute_result"
    }
   ],
   "source": [
    "benimYemekKalorisozlugum[\"muz\"]"
   ]
  },
  {
   "cell_type": "code",
   "execution_count": 10,
   "id": "d01cba85",
   "metadata": {},
   "outputs": [],
   "source": [
    "benimYemekKalorisozlugum[\"elma\"] = 200"
   ]
  },
  {
   "cell_type": "code",
   "execution_count": 12,
   "id": "27d19169",
   "metadata": {},
   "outputs": [
    {
     "data": {
      "text/plain": [
       "{'elma': 200, 'karpzu': 200, 'muz': 300}"
      ]
     },
     "execution_count": 12,
     "metadata": {},
     "output_type": "execute_result"
    }
   ],
   "source": [
    "benimYemekKalorisozlugum"
   ]
  },
  {
   "cell_type": "code",
   "execution_count": 2,
   "id": "d4a4a0d6",
   "metadata": {},
   "outputs": [],
   "source": [
    "yeniDictionary = {\"anahtar\" : [10,20,30,40] , \"anahtar2\" : {\"anahtar3\": 10}}"
   ]
  },
  {
   "cell_type": "code",
   "execution_count": 3,
   "id": "6ed3b738",
   "metadata": {},
   "outputs": [
    {
     "data": {
      "text/plain": [
       "[10, 20, 30, 40]"
      ]
     },
     "execution_count": 3,
     "metadata": {},
     "output_type": "execute_result"
    }
   ],
   "source": [
    "yeniDictionary[\"anahtar\"]"
   ]
  },
  {
   "cell_type": "code",
   "execution_count": 16,
   "id": "25882fac",
   "metadata": {},
   "outputs": [
    {
     "data": {
      "text/plain": [
       "10"
      ]
     },
     "execution_count": 16,
     "metadata": {},
     "output_type": "execute_result"
    }
   ],
   "source": [
    "yeniDictionary[\"anahtar2\"][\"anahtar3\"]"
   ]
  }
 ],
 "metadata": {
  "kernelspec": {
   "display_name": "Python 3 (ipykernel)",
   "language": "python",
   "name": "python3"
  },
  "language_info": {
   "codemirror_mode": {
    "name": "ipython",
    "version": 3
   },
   "file_extension": ".py",
   "mimetype": "text/x-python",
   "name": "python",
   "nbconvert_exporter": "python",
   "pygments_lexer": "ipython3",
   "version": "3.9.12"
  }
 },
 "nbformat": 4,
 "nbformat_minor": 5
}
