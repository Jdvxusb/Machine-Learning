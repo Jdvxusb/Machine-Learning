{
 "cells": [
  {
   "cell_type": "markdown",
   "id": "447532b6",
   "metadata": {},
   "source": [
    "## instance & attribute"
   ]
  },
  {
   "cell_type": "code",
   "execution_count": 92,
   "id": "0606118a",
   "metadata": {},
   "outputs": [],
   "source": [
    "class SuperKahraman():\n",
    "    \n",
    "    \n",
    "    \n",
    "    def __init__(self,isim,yas,meslek):\n",
    "        print(\"init cagirildi\")\n",
    "        self.isim = isim\n",
    "        self.yas = yas\n",
    "        self.meslek = meslek\n",
    "        \n",
    "    def ornekMetod(self):\n",
    "        print(f\"Ben superkahramanim ve meslegim: {self.meslek}\")"
   ]
  },
  {
   "cell_type": "code",
   "execution_count": 93,
   "id": "c1f73922",
   "metadata": {},
   "outputs": [
    {
     "name": "stdout",
     "output_type": "stream",
     "text": [
      "init cagirildi\n"
     ]
    }
   ],
   "source": [
    "superman = SuperKahraman(\"superman\",30,\"gazeteci\")"
   ]
  },
  {
   "cell_type": "code",
   "execution_count": 94,
   "id": "d978262f",
   "metadata": {},
   "outputs": [
    {
     "data": {
      "text/plain": [
       "'superman'"
      ]
     },
     "execution_count": 94,
     "metadata": {},
     "output_type": "execute_result"
    }
   ],
   "source": [
    "superman.isim"
   ]
  },
  {
   "cell_type": "code",
   "execution_count": 95,
   "id": "64b97f1b",
   "metadata": {},
   "outputs": [],
   "source": [
    "superman.isim = \"Clark Kent\""
   ]
  },
  {
   "cell_type": "code",
   "execution_count": 96,
   "id": "818953f6",
   "metadata": {},
   "outputs": [
    {
     "data": {
      "text/plain": [
       "'Clark Kent'"
      ]
     },
     "execution_count": 96,
     "metadata": {},
     "output_type": "execute_result"
    }
   ],
   "source": [
    "superman.isim"
   ]
  },
  {
   "cell_type": "code",
   "execution_count": 97,
   "id": "471338cd",
   "metadata": {},
   "outputs": [
    {
     "name": "stdout",
     "output_type": "stream",
     "text": [
      "Ben superkahramanim ve meslegim: gazeteci\n"
     ]
    }
   ],
   "source": [
    "superman.ornekMetod()"
   ]
  },
  {
   "cell_type": "code",
   "execution_count": 98,
   "id": "2506d42f",
   "metadata": {},
   "outputs": [],
   "source": [
    "class kopek():\n",
    "    def __init__(self,yas=5):\n",
    "        self.yas=yas       "
   ]
  },
  {
   "cell_type": "code",
   "execution_count": 99,
   "id": "95cb11a9",
   "metadata": {},
   "outputs": [],
   "source": [
    "benimKopek=kopek()"
   ]
  },
  {
   "cell_type": "code",
   "execution_count": 100,
   "id": "e6b7564e",
   "metadata": {},
   "outputs": [
    {
     "data": {
      "text/plain": [
       "5"
      ]
     },
     "execution_count": 100,
     "metadata": {},
     "output_type": "execute_result"
    }
   ],
   "source": [
    "benimKopek.yas"
   ]
  },
  {
   "cell_type": "markdown",
   "id": "5abf97d8",
   "metadata": {},
   "source": [
    "## inheritance"
   ]
  },
  {
   "cell_type": "markdown",
   "id": "63d2a869",
   "metadata": {},
   "source": [
    "class Hayvan():\n",
    "    def __init__(self):\n",
    "        print(\"hayvan sinifi init cagirildi\")\n",
    "    def metod1(self):\n",
    "        print(\"hayvan sinifi metod 1 cagirildi\")"
   ]
  },
  {
   "cell_type": "code",
   "execution_count": 101,
   "id": "0dceb901",
   "metadata": {},
   "outputs": [],
   "source": [
    "class kedi(Hayvan):\n",
    "    def __init__(self):\n",
    "        Hayvan.__init__(self)\n",
    "        print(\"kedi sinifi init cagrildi\")"
   ]
  },
  {
   "cell_type": "code",
   "execution_count": 102,
   "id": "0204bac3",
   "metadata": {},
   "outputs": [
    {
     "name": "stdout",
     "output_type": "stream",
     "text": [
      "kedi sinifi init cagrildi\n"
     ]
    }
   ],
   "source": [
    "benimKedi = kedi()"
   ]
  },
  {
   "cell_type": "code",
   "execution_count": 103,
   "id": "fadedb54",
   "metadata": {},
   "outputs": [
    {
     "name": "stdout",
     "output_type": "stream",
     "text": [
      "hayvan sinifi metod 1 cagirildi\n"
     ]
    }
   ],
   "source": [
    "benimKedi.metod1()"
   ]
  },
  {
   "cell_type": "markdown",
   "id": "aa0bb6df",
   "metadata": {},
   "source": [
    "## Polymorphism"
   ]
  },
  {
   "cell_type": "code",
   "execution_count": 104,
   "id": "fb0a5946",
   "metadata": {},
   "outputs": [],
   "source": [
    "class Elma():\n",
    "    def __init__(self,isim):\n",
    "        self.isim=isim\n",
    "        \n",
    "    def bilgiVer(self):\n",
    "        return self.isim+\" 100 kaloridir\""
   ]
  },
  {
   "cell_type": "code",
   "execution_count": 105,
   "id": "50fc0bde",
   "metadata": {},
   "outputs": [],
   "source": [
    "class Muz():\n",
    "    def __init__(self,isim):\n",
    "        self.isim=isim\n",
    "        \n",
    "    def bilgiVer(self):\n",
    "        return self.isim+\" 150 kaloridir\""
   ]
  },
  {
   "cell_type": "code",
   "execution_count": 106,
   "id": "e61d185d",
   "metadata": {},
   "outputs": [],
   "source": [
    "elma=Elma(\"elma\")\n",
    "muz=Muz(\"muz\")"
   ]
  },
  {
   "cell_type": "code",
   "execution_count": 107,
   "id": "9c402d1f",
   "metadata": {},
   "outputs": [],
   "source": [
    "meyveListesi=[elma,muz]"
   ]
  },
  {
   "cell_type": "code",
   "execution_count": 108,
   "id": "323d5280",
   "metadata": {},
   "outputs": [
    {
     "name": "stdout",
     "output_type": "stream",
     "text": [
      "elma 100 kaloridir\n",
      "muz 150 kaloridir\n"
     ]
    }
   ],
   "source": [
    "for meyve in meyveListesi:\n",
    "    print(meyve.bilgiVer())"
   ]
  },
  {
   "cell_type": "markdown",
   "id": "053b2c2d",
   "metadata": {},
   "source": [
    "## Ozel Metodlar"
   ]
  },
  {
   "cell_type": "code",
   "execution_count": 117,
   "id": "af78579c",
   "metadata": {},
   "outputs": [],
   "source": [
    "class Meyve():\n",
    "    def __init__(self,isim,kalori):\n",
    "        self.isim=isim\n",
    "        self.kalori=kalori\n",
    "    def __str__(self):\n",
    "        return f\"{self.isim} su kara kaloriye sahiptir: {self.kalori}\"\n",
    "    \n",
    "    def __len__(self):\n",
    "        return self.kalori"
   ]
  },
  {
   "cell_type": "code",
   "execution_count": 121,
   "id": "1fd5c6db",
   "metadata": {},
   "outputs": [],
   "source": [
    "muz=Meyve(\"Muz\",190)"
   ]
  },
  {
   "cell_type": "code",
   "execution_count": 122,
   "id": "23e53de6",
   "metadata": {},
   "outputs": [
    {
     "name": "stdout",
     "output_type": "stream",
     "text": [
      "Muz su kara kaloriye sahiptir: 190\n"
     ]
    }
   ],
   "source": [
    "print(muz)"
   ]
  },
  {
   "cell_type": "code",
   "execution_count": 123,
   "id": "9401fdc5",
   "metadata": {},
   "outputs": [
    {
     "data": {
      "text/plain": [
       "190"
      ]
     },
     "execution_count": 123,
     "metadata": {},
     "output_type": "execute_result"
    }
   ],
   "source": [
    "len(muz)"
   ]
  },
  {
   "cell_type": "code",
   "execution_count": null,
   "id": "708e3eec",
   "metadata": {},
   "outputs": [],
   "source": []
  }
 ],
 "metadata": {
  "kernelspec": {
   "display_name": "Python 3 (ipykernel)",
   "language": "python",
   "name": "python3"
  },
  "language_info": {
   "codemirror_mode": {
    "name": "ipython",
    "version": 3
   },
   "file_extension": ".py",
   "mimetype": "text/x-python",
   "name": "python",
   "nbconvert_exporter": "python",
   "pygments_lexer": "ipython3",
   "version": "3.9.12"
  }
 },
 "nbformat": 4,
 "nbformat_minor": 5
}
