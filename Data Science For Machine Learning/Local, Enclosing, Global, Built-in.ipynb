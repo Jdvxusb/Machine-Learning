{
 "cells": [
  {
   "cell_type": "code",
   "execution_count": 15,
   "id": "62a8505f",
   "metadata": {},
   "outputs": [
    {
     "data": {
      "text/plain": [
       "[1, 2, 3, 4, 5, 6, 7, 8, 9]"
      ]
     },
     "execution_count": 15,
     "metadata": {},
     "output_type": "execute_result"
    }
   ],
   "source": [
    "benimListem=list(range(1,10))\n",
    "benimListem"
   ]
  },
  {
   "cell_type": "code",
   "execution_count": 16,
   "id": "e24caa69",
   "metadata": {},
   "outputs": [],
   "source": [
    "def bolme(a):\n",
    "    return a/2"
   ]
  },
  {
   "cell_type": "code",
   "execution_count": 17,
   "id": "97655bd7",
   "metadata": {},
   "outputs": [
    {
     "data": {
      "text/plain": [
       "[0.5, 1.0, 1.5, 2.0, 2.5, 3.0, 3.5, 4.0, 4.5]"
      ]
     },
     "execution_count": 17,
     "metadata": {},
     "output_type": "execute_result"
    }
   ],
   "source": [
    "list(map(bolme, benimListem))"
   ]
  },
  {
   "cell_type": "code",
   "execution_count": 21,
   "id": "edbfc5e6",
   "metadata": {},
   "outputs": [],
   "source": [
    "def kontrol(string):\n",
    "    return \"o\" in string"
   ]
  },
  {
   "cell_type": "code",
   "execution_count": 22,
   "id": "42cd473a",
   "metadata": {},
   "outputs": [
    {
     "data": {
      "text/plain": [
       "True"
      ]
     },
     "execution_count": 22,
     "metadata": {},
     "output_type": "execute_result"
    }
   ],
   "source": [
    "kontrol(\"omer\")"
   ]
  },
  {
   "cell_type": "code",
   "execution_count": 23,
   "id": "3239f6b3",
   "metadata": {},
   "outputs": [
    {
     "data": {
      "text/plain": [
       "False"
      ]
     },
     "execution_count": 23,
     "metadata": {},
     "output_type": "execute_result"
    }
   ],
   "source": [
    "kontrol(\"mustafa\")"
   ]
  },
  {
   "cell_type": "code",
   "execution_count": 24,
   "id": "3bcef5ea",
   "metadata": {},
   "outputs": [],
   "source": [
    "stringListesi=[\"muz\",\"armut\",\"elma\",\"mustafa\",\"omer\"]"
   ]
  },
  {
   "cell_type": "code",
   "execution_count": 28,
   "id": "8ef3fd96",
   "metadata": {},
   "outputs": [
    {
     "data": {
      "text/plain": [
       "[False, False, False, False, True]"
      ]
     },
     "execution_count": 28,
     "metadata": {},
     "output_type": "execute_result"
    }
   ],
   "source": [
    "list(map(kontrol,stringListesi))"
   ]
  },
  {
   "cell_type": "code",
   "execution_count": 26,
   "id": "b42cae34",
   "metadata": {},
   "outputs": [],
   "source": [
    "sonuclistesi=list(map(kontrol,stringListesi))"
   ]
  },
  {
   "cell_type": "code",
   "execution_count": 27,
   "id": "442f90d1",
   "metadata": {},
   "outputs": [
    {
     "data": {
      "text/plain": [
       "4"
      ]
     },
     "execution_count": 27,
     "metadata": {},
     "output_type": "execute_result"
    }
   ],
   "source": [
    "sonuclistesi.count(False)"
   ]
  },
  {
   "cell_type": "code",
   "execution_count": 29,
   "id": "4e48d604",
   "metadata": {},
   "outputs": [
    {
     "data": {
      "text/plain": [
       "['omer']"
      ]
     },
     "execution_count": 29,
     "metadata": {},
     "output_type": "execute_result"
    }
   ],
   "source": [
    "list(filter(kontrol,stringListesi))"
   ]
  },
  {
   "cell_type": "code",
   "execution_count": 30,
   "id": "8368f797",
   "metadata": {},
   "outputs": [],
   "source": [
    "carpma = lambda numara : numara*3"
   ]
  },
  {
   "cell_type": "code",
   "execution_count": 31,
   "id": "da87f962",
   "metadata": {},
   "outputs": [
    {
     "data": {
      "text/plain": [
       "300"
      ]
     },
     "execution_count": 31,
     "metadata": {},
     "output_type": "execute_result"
    }
   ],
   "source": [
    "carpma(100)"
   ]
  },
  {
   "cell_type": "markdown",
   "id": "721d082f",
   "metadata": {},
   "source": [
    "## Local, Enclosing, Global, Built-in"
   ]
  },
  {
   "cell_type": "code",
   "execution_count": 37,
   "id": "abec188f",
   "metadata": {},
   "outputs": [],
   "source": [
    "ad = \"omer\"\n",
    "#global\n",
    "\n",
    "def benimFonksiyonum():\n",
    "    ad = \"mustafa\"\n",
    "    #enclosing\n",
    "    \n",
    "    def icFonksiyon():\n",
    "        ad=\"ayse\"\n",
    "        #local\n",
    "        print(ad)\n",
    "    icFonksiyon()    "
   ]
  },
  {
   "cell_type": "code",
   "execution_count": 38,
   "id": "490fc891",
   "metadata": {},
   "outputs": [
    {
     "name": "stdout",
     "output_type": "stream",
     "text": [
      "ayse\n"
     ]
    }
   ],
   "source": [
    "benimFonksiyonum()"
   ]
  },
  {
   "cell_type": "code",
   "execution_count": 39,
   "id": "5a7abe5a",
   "metadata": {},
   "outputs": [
    {
     "name": "stdout",
     "output_type": "stream",
     "text": [
      "omer\n"
     ]
    }
   ],
   "source": [
    "print(ad)"
   ]
  },
  {
   "cell_type": "code",
   "execution_count": 41,
   "id": "9b86f01c",
   "metadata": {},
   "outputs": [],
   "source": [
    "y =10\n",
    "\n",
    "def yeniFonksiyon(y):\n",
    "    print(y)\n",
    "    y=5\n",
    "    print(y)\n",
    "    return y"
   ]
  },
  {
   "cell_type": "code",
   "execution_count": 43,
   "id": "ca1820a0",
   "metadata": {},
   "outputs": [
    {
     "name": "stdout",
     "output_type": "stream",
     "text": [
      "3\n",
      "5\n"
     ]
    },
    {
     "data": {
      "text/plain": [
       "5"
      ]
     },
     "execution_count": 43,
     "metadata": {},
     "output_type": "execute_result"
    }
   ],
   "source": [
    "yeniFonksiyon(3)"
   ]
  },
  {
   "cell_type": "code",
   "execution_count": 47,
   "id": "7e6337ff",
   "metadata": {},
   "outputs": [],
   "source": [
    "x =10\n",
    "\n",
    "def ornekFonksiyon():\n",
    "    global x\n",
    "    x=5\n",
    "    print(x)"
   ]
  },
  {
   "cell_type": "code",
   "execution_count": 48,
   "id": "a03b7fc3",
   "metadata": {},
   "outputs": [
    {
     "data": {
      "text/plain": [
       "10"
      ]
     },
     "execution_count": 48,
     "metadata": {},
     "output_type": "execute_result"
    }
   ],
   "source": [
    "x"
   ]
  },
  {
   "cell_type": "code",
   "execution_count": 49,
   "id": "f56d6cb8",
   "metadata": {},
   "outputs": [
    {
     "name": "stdout",
     "output_type": "stream",
     "text": [
      "5\n"
     ]
    }
   ],
   "source": [
    "ornekFonksiyon()"
   ]
  },
  {
   "cell_type": "code",
   "execution_count": 50,
   "id": "12aec7e7",
   "metadata": {},
   "outputs": [
    {
     "data": {
      "text/plain": [
       "5"
      ]
     },
     "execution_count": 50,
     "metadata": {},
     "output_type": "execute_result"
    }
   ],
   "source": [
    "x"
   ]
  },
  {
   "cell_type": "code",
   "execution_count": null,
   "id": "0f050025",
   "metadata": {},
   "outputs": [],
   "source": []
  }
 ],
 "metadata": {
  "kernelspec": {
   "display_name": "Python 3 (ipykernel)",
   "language": "python",
   "name": "python3"
  },
  "language_info": {
   "codemirror_mode": {
    "name": "ipython",
    "version": 3
   },
   "file_extension": ".py",
   "mimetype": "text/x-python",
   "name": "python",
   "nbconvert_exporter": "python",
   "pygments_lexer": "ipython3",
   "version": "3.9.12"
  }
 },
 "nbformat": 4,
 "nbformat_minor": 5
}
